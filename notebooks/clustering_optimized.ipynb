{
    "cells": [
        {
            "cell_type": "markdown",
            "metadata": {},
            "source": [
                "### Preliminary Fitness Clustering Analysis\n",
                "\n",
                "In our initial fitness clustering analysis, we utilized the features 'TotalSteps,' 'VeryActiveDistance,' and 'Calories' to evaluate Fitbit users' general fitness and activity levels. While these features provide valuable insights into physical activity and calorie expenditure, it's important to note that the 'Calories' feature may introduce bias into our clustering results.\n",
                "\n",
                "Calorie consumption is influenced by various factors, such as metabolic rates, body size, and gender. This influence can potentially lead to users with different characteristics being assigned to separate clusters. To mitigate this potential bias and achieve more accurate fitness clustering, we plan to incorporate additional data, including user-specific information like age, weight, and gender. These variables will allow us to normalize calorie data based on individual characteristics, providing a fairer assessment of fitness levels.\n",
                "\n",
                "Our analysis is ongoing, and we are committed to refining our methodology. For now, we have used the 'Calories' feature as a starting point, recognizing its limitations but appreciating its significance in capturing overall physical activity."
            ]
        },
        {
            "cell_type": "code",
            "execution_count": 5,
            "metadata": {},
            "outputs": [],
            "source": [
                "import pandas as pd\n",
                "import numpy as np\n",
                "from sklearn.cluster import KMeans\n",
                "from sklearn.preprocessing import StandardScaler\n",
                "from sklearn.metrics import silhouette_score\n",
                "from sklearn.decomposition import PCA\n",
                "import matplotlib.pyplot as plt\n",
                "import plotly.express as px"
            ]
        },
        {
            "cell_type": "code",
            "execution_count": 16,
            "metadata": {},
            "outputs": [
                {
                    "name": "stdout",
                    "output_type": "stream",
                    "text": [
                        "<class 'pandas.core.frame.DataFrame'>\n",
                        "RangeIndex: 940 entries, 0 to 939\n",
                        "Data columns (total 15 columns):\n",
                        " #   Column                    Non-Null Count  Dtype  \n",
                        "---  ------                    --------------  -----  \n",
                        " 0   Id                        940 non-null    int64  \n",
                        " 1   ActivityDate              940 non-null    object \n",
                        " 2   TotalSteps                940 non-null    int64  \n",
                        " 3   TotalDistance             940 non-null    float64\n",
                        " 4   TrackerDistance           940 non-null    float64\n",
                        " 5   LoggedActivitiesDistance  940 non-null    float64\n",
                        " 6   VeryActiveDistance        940 non-null    float64\n",
                        " 7   ModeratelyActiveDistance  940 non-null    float64\n",
                        " 8   LightActiveDistance       940 non-null    float64\n",
                        " 9   SedentaryActiveDistance   940 non-null    float64\n",
                        " 10  VeryActiveMinutes         940 non-null    int64  \n",
                        " 11  FairlyActiveMinutes       940 non-null    int64  \n",
                        " 12  LightlyActiveMinutes      940 non-null    int64  \n",
                        " 13  SedentaryMinutes          940 non-null    int64  \n",
                        " 14  Calories                  940 non-null    int64  \n",
                        "dtypes: float64(7), int64(7), object(1)\n",
                        "memory usage: 110.3+ KB\n"
                    ]
                }
            ],
            "source": [
                "# Load and inspect data\n",
                "df_daily_activity_merged = pd.read_csv('data/dailyActivity_merged.csv')\n",
                "df_daily_activity_merged.head()\n",
                "df_daily_activity_merged.info()"
            ]
        },
        {
            "cell_type": "code",
            "execution_count": null,
            "metadata": {},
            "outputs": [
                {
                    "ename": "",
                    "evalue": "",
                    "output_type": "error",
                    "traceback": [
                        "\u001b[1;31mRunning cells with 'conda (Python 3.10.9)' requires the ipykernel package.\n",
                        "\u001b[1;31mRun the following command to install 'ipykernel' into the Python environment. \n",
                        "\u001b[1;31mCommand: 'conda install -p c:\\TCHT\\oobabooga_windows\\installer_files\\conda ipykernel --update-deps --force-reinstall'"
                    ]
                }
            ],
            "source": [
                "# Select subset of features\n",
                "subset = df_daily_activity_merged[['TotalSteps', 'VeryActiveDistance', 'Calories']]\n",
                "\n",
                "# Standardize the features\n",
                "scaler = StandardScaler()\n",
                "scaled_data = scaler.fit_transform(subset)"
            ]
        },
        {
            "cell_type": "code",
            "execution_count": null,
            "metadata": {},
            "outputs": [
                {
                    "ename": "",
                    "evalue": "",
                    "output_type": "error",
                    "traceback": [
                        "\u001b[1;31mRunning cells with 'conda (Python 3.10.9)' requires the ipykernel package.\n",
                        "\u001b[1;31mRun the following command to install 'ipykernel' into the Python environment. \n",
                        "\u001b[1;31mCommand: 'conda install -p c:\\TCHT\\oobabooga_windows\\installer_files\\conda ipykernel --update-deps --force-reinstall'"
                    ]
                }
            ],
            "source": [
                "# Apply KMeans clustering algorithm\n",
                "num_clusters = 3\n",
                "kmeans = KMeans(n_clusters=num_clusters, random_state=42)\n",
                "df_daily_activity_merged['ActivityLevel'] = kmeans.fit_predict(scaled_data)"
            ]
        },
        {
            "cell_type": "code",
            "execution_count": null,
            "metadata": {},
            "outputs": [
                {
                    "ename": "",
                    "evalue": "",
                    "output_type": "error",
                    "traceback": [
                        "\u001b[1;31mRunning cells with 'conda (Python 3.10.9)' requires the ipykernel package.\n",
                        "\u001b[1;31mRun the following command to install 'ipykernel' into the Python environment. \n",
                        "\u001b[1;31mCommand: 'conda install -p c:\\TCHT\\oobabooga_windows\\installer_files\\conda ipykernel --update-deps --force-reinstall'"
                    ]
                }
            ],
            "source": [
                "# Visualize the clustering results\n",
                "fig = px.scatter_3d(\n",
                "    df_daily_activity_merged,\n",
                "    x='TotalSteps',\n",
                "    y='VeryActiveDistance',\n",
                "    z='Calories',\n",
                "    color='ActivityLevel',\n",
                "    title='Clustering Visualization',\n",
                "    template='plotly_dark'\n",
                ")\n",
                "\n",
                "fig.update_traces(marker=dict(size=3, opacity=0.6, line=dict(width=2, color='DarkSlateGrey')))\n",
                "fig.update_layout(scene=dict(xaxis_title='TotalSteps', yaxis_title='VeryActiveDistance', zaxis_title='Calories'), scene_aspectmode='cube')\n",
                "fig.show()"
            ]
        },
        {
            "cell_type": "code",
            "execution_count": null,
            "metadata": {},
            "outputs": [
                {
                    "ename": "",
                    "evalue": "",
                    "output_type": "error",
                    "traceback": [
                        "\u001b[1;31mRunning cells with 'conda (Python 3.10.9)' requires the ipykernel package.\n",
                        "\u001b[1;31mRun the following command to install 'ipykernel' into the Python environment. \n",
                        "\u001b[1;31mCommand: 'conda install -p c:\\TCHT\\oobabooga_windows\\installer_files\\conda ipykernel --update-deps --force-reinstall'"
                    ]
                }
            ],
            "source": [
                "# Analyze cluster activity levels\n",
                "cluster_activity_means = df_daily_activity_merged.groupby('ActivityLevel').mean(numeric_only=True)\n",
                "print(cluster_activity_means[['TotalSteps', 'TotalDistance', 'VeryActiveMinutes']])"
            ]
        },
        {
            "cell_type": "code",
            "execution_count": null,
            "metadata": {},
            "outputs": [
                {
                    "ename": "",
                    "evalue": "",
                    "output_type": "error",
                    "traceback": [
                        "\u001b[1;31mRunning cells with 'conda (Python 3.10.9)' requires the ipykernel package.\n",
                        "\u001b[1;31mRun the following command to install 'ipykernel' into the Python environment. \n",
                        "\u001b[1;31mCommand: 'conda install -p c:\\TCHT\\oobabooga_windows\\installer_files\\conda ipykernel --update-deps --force-reinstall'"
                    ]
                }
            ],
            "source": [
                "# Map cluster labels to activity levels\n",
                "labels = {0: 'Moderately Active', 1: 'Not Very Active', 2: 'Highly Active'}\n",
                "df_daily_activity_merged['ActivityDescription'] = df_daily_activity_merged['ActivityLevel'].map(labels)\n",
                "df_daily_activity_merged.head()"
            ]
        }
    ],
    "metadata": {
        "kernelspec": {
            "display_name": "Python 3",
            "language": "python",
            "name": "python3"
        },
        "language_info": {
            "codemirror_mode": {
                "name": "ipython",
                "version": 3
            },
            "file_extension": ".py",
            "mimetype": "text/x-python",
            "name": "python",
            "nbconvert_exporter": "python",
            "pygments_lexer": "ipython3",
            "version": "3.11.8"
        }
    },
    "nbformat": 4,
    "nbformat_minor": 5
}
